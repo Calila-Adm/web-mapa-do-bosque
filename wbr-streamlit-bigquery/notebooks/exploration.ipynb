{
 "cells": [
  {
   "cell_type": "markdown",
   "metadata": {},
   "source": [
    "# Exploration Notebook\n",
    "\n",
    "This notebook is used for exploratory data analysis (EDA) on the data retrieved from BigQuery for the WBR methodology. It allows for interactive data exploration and visualization."
   ]
  },
  {
   "cell_type": "code",
   "execution_count": null,
   "metadata": {
    "collapsed": false
   },
   "outputs": [],
   "source": [
    "# Import necessary libraries\n",
    "import pandas as pd\n",
    "import numpy as np\n",
    "import matplotlib.pyplot as plt\n",
    "import seaborn as sns\n",
    "from google.cloud import bigquery\n",
    "from src.data.bigquery_client import BigQueryClient\n",
    "from src.data.queries.wbr import QUERY\n",
    "\n",
    "# Initialize BigQuery client\n",
    "client = BigQueryClient()\n",
    "\n",
    "# Fetch data from BigQuery\n",
    "data = client.query(QUERY).to_dataframe()\n",
    "\n",
    "# Display the first few rows of the data\n",
    "data.head()"
   ]
  },
  {
   "cell_type": "code",
   "execution_count": null,
   "metadata": {
    "collapsed": false
   },
   "outputs": [],
   "source": [
    "# Data exploration and visualization\n",
    "\n",
    "# Summary statistics\n",
    "data.describe()\n",
    "\n",
    "# Visualize distributions of key metrics\n",
    "plt.figure(figsize=(12, 6))\n",
    "sns.histplot(data['metric_column'], bins=30, kde=True)\n",
    "plt.title('Distribution of Metric Column')\n",
    "plt.xlabel('Metric Column')\n",
    "plt.ylabel('Frequency')\n",
    "plt.show()"
   ]
  },
  {
   "cell_type": "code",
   "execution_count": null,
   "metadata": {
    "collapsed": false
   },
   "outputs": [],
   "source": [
    "# Correlation heatmap\n",
    "plt.figure(figsize=(10, 8))\n",
    "correlation_matrix = data.corr()\n",
    "sns.heatmap(correlation_matrix, annot=True, fmt='.2f', cmap='coolwarm', square=True)\n",
    "plt.title('Correlation Heatmap')\n",
    "plt.show()"
   ]
  },
  {
   "cell_type": "code",
   "execution_count": null,
   "metadata": {
    "collapsed": false
   },
   "outputs": [],
   "source": [
    "# Save the cleaned and processed data for further analysis\n",
    "data.to_csv('processed_data.csv', index=False)\n",
    "print('Processed data saved to processed_data.csv')"
   ]
  }
 ],
 "metadata": {
  "kernelspec": {
   "display_name": "Python 3",
   "language": "python",
   "name": "python3"
  },
  "language_info": {
   "codemirror_mode": {
    "name": "ipython",
    "version": 3
   },
   "file_extension": ".py",
   "mimetype": "text/x-python",
   "name": "python",
   "nbconvert_exporter": "python",
   "pygments_lexer": "ipython3",
   "version": "3.8.5"
  }
 },
 "nbformat": 4,
 "nbformat_minor": 4
}